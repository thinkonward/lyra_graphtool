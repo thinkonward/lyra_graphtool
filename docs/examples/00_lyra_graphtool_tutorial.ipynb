{
 "cells": [
  {
   "attachments": {},
   "cell_type": "markdown",
   "metadata": {},
   "source": [
    "# **Lyra Graphtool Tutorial**\n",
    "\n",
    "###### Welcome to the Off the Beaten Path Xeek Challenge!\n",
    "\n",
    "###### This is a fun and unique variation of the traditional [travelling salesman](https://en.wikipedia.org/wiki/Travelling_salesman_problem) problem. \n",
    "\n",
    "###### In the traditional travelling salesman problem, the goal is to optimize the route that the \"salesman\" has to walk. This challenge introduces additional constraints and additional degrees of freedom (variables) to the problem. Not only will you be considering the distance to travel, but additional factors like simulation duration, budget, amount of rewards extracted from a particular site, and the cost of a worker. **The solution to the challenge is not only the plan, but also an algorithm that will be tested on other problem setups (different graphs to explore, different values of constraints), therefore you have to keep in mind, that you are developing a universal tool for finding a solution.**\n",
    "\n",
    "###### The Xeek team has built a unique and powerful tool, called `lyra_graphtool`, to help you skip the graph setup part of the challenge and get to the important part; generating an algorithm to optimize the problem! This notebook, as well as a random walk exmaple solution and API Documentation will serve as your documenation and learning resources for the challenge.\n",
    "\n",
    "###### Please use the links below if you would like to jump to a specific Object in this notebook, as well as a starter notebook with an example solution!\n",
    "\n",
    "## **<u>Main Index</u>**\n",
    "\n",
    "[Initial Setup](#initial-setup)\n",
    "\n",
    "#### **<u>Parameters Module</u>**\n",
    "[Parameters Object](#parameters-object)\n",
    "* [display()](#display) - display the arguments passed through the `Parameters` object\n",
    "\n",
    "[ProcessArgs Object](#processargs-object)\n",
    "* [ProcessArgs.load()](#processargs.load) - load arguments file\n",
    "* [load_graph()](#load_graph) - load graph file\n",
    "* [ProcessArgs.save()](#processargs.save) - save process arguments as a `.json` file\n",
    "* [ProcessArgs.values_to_args()](#processargs.values_to_args) - send arguments to a list\n",
    "\n",
    "[Site_Structures Object](#site_structures-object)\n",
    "* [Site_Structures.values_to_args()](#site_structures.values_to_args) - send arguments to a list\n",
    "\n",
    "#### **<u>Configuration Module</u>**\n",
    "[Configuration_Single_Time Object](#configuration_single_time)\n",
    "* [Config_Single_Time.info()](#Config_Single_Time.info) - returns info about Vertex coordinates, type, and whether the site was accessed\n",
    "\n",
    "[Configuration Object](#configuration-object)\n",
    "* [add_sched()](#add_sched()) - add a schedule to configuration, given `Worker_Type` and number of workers\n",
    "* [budget_feasible()](#budget_feasible) - tests whether the whole configuration can pass budget constraints\n",
    "* [cost()](#cost()) - returns the cost of the whole configuration\n",
    "* [cost_sched()](#cost_sched) - returns the cost of a single schedule\n",
    "* [feasible()](#feasible) - tests whether the whole configuration is feasible in all terms\n",
    "* [get_accessed_sites()](#get_accessed_sites) - returns summary dictionary of accessed sires and a string log of detailed accesses\n",
    "* [get_current_workers()](#get_current_workers) - returns a dictionary of workers that are active in configuration\n",
    "* [get_max_revenue()](#get_max_revenue) - returns maximum reward available in current setup\n",
    "* [get_schedule_path_length()](#get_schedule_path_length) - returns path length (i.e. how many timesteps has the worker been active?)\n",
    "* [get_vertices_start()](#get_vertices_start) - returns the vertices of Vertex_Type.ORIGIN\n",
    "* [get_worker()](#get_worker) - returns Worker object of specific type, making sure it has proper cost_rate assigned\n",
    "* [is_empty()](#is_empty) - returns whether the the schedule is empty\n",
    "* [load_from_json()](#load_from_json) - loads solution from `.json` file\n",
    "* [revenue()](#revenue) - returns the revenue of the whole configuration\n",
    "* [save()](#save) - save configuration to pickle format\n",
    "* [save_to_json()](#save_to_json) - saves the solution to a `.json` file\n",
    "* [sched_all_feasible_access_sites()](#sched_all_feasible_access_sites) - tests whether the whole configuration can pass access constraints\n",
    "* [sched_all_feasible_space()](#sched_all_feasible_space) - tests whether the whole configuration is spatially feasible\n",
    "* [sched_feasible_access_sites()](#sched_feasible_access_sites) - tests whether a single schedule can pass access contraints (i.e. one site can be accessed by one worker as a time and once the reward is extracted is doesn't contain more reward)\n",
    "* [sched_feasible_space()](#sched_feasible_space) - tests whether a single schedule is spatially feasible  \n",
    "* [sched_info()](#sched_info) - prints info about specific workers schedule\n",
    "* [sched_revenue()](#sched_revenue) - returns revenue of a single schedule\n",
    "* [site_accessed()](#site_accessed) - determine whether a site has been accessed at any given time in a schedule, given Vertex information \n",
    "* [site_accessed_at_time()](#site_accessed_at_time) - determine whether a site has been accessed at a particular time step, given Vertex and timestep information\n",
    "\n",
    "#### **<u>Edge Module</u>**\n",
    "[Edge Object](#edge-Object)\n",
    "* [in_graph()](#in_graph)\n",
    "* [Edge.info()](#Edge.info) - returns coordinates of vertices connected by this edge\n",
    "* [nearest_neighbor()](#nearest_neighbor)\n",
    "\n",
    "#### **<u>Graph Module</u>**\n",
    "[Graph Object](#graph-Object)\n",
    "* [add_vertex()](#add_vertex)\n",
    "* [adjacent_vertices()](#adjacent_vertices) - returns a list of adjacent vertices to a given vertex\n",
    "* [closest_vertices()](#closest_vertices)\n",
    "* [connected_components()](#closest_components)\n",
    "* [depth_first_search()](#depth_first_search)\n",
    "* [distance()](#distance)\n",
    "* [edges_info()](#edges_info) - returns edges in a graph\n",
    "* [get_edges_at_vertex()](#get_edges_at_vertex) - returns a list of edges for a given vertex\n",
    "* [get_vertex_xy()](#get_vertex_xy) - returns a vertex object of given coordinates\n",
    "* [get_vertices_type()](#get_vertices_type) - returns a list of vertices of a given type\n",
    "* [isolated_vertices()](#isolated_vertices)\n",
    "* [load_from_json()](#load_from_json) - loads graph from a json file\n",
    "* [make_graph_connected()](#make_graph_connected)\n",
    "* [paths()](#paths)\n",
    "* [print_graph()](#print_graph) - display graph with paths\n",
    "* [Graph.save()](#Graph.save) - save graph as pickle file\n",
    "* [Graph.save_to_json()](#Graph.save_to_json) - saves graph to a json file\n",
    "* [set_edges()](#set_edges)\n",
    "* [set_random_sites_origin()](#set_random_sites_origin)\n",
    "* [set_vertex_coords()](#set_vertex_coords) - manually changing Vertex coordinates for a given Vertex\n",
    "* [set_vertex_type()](#set_vertex_type) - setting a type of a particular Vertex manually, based on either the Vertex object passed to method or Vertex coordinates (both coordinates to be provided)\n",
    "* [vertices_array()](#vertices_array) - returns a numpy array of the graph vertices\n",
    "* [vertices_info()](#vertices_info) - returns coordinates and types of vertices in a graph\n",
    "\n",
    "[Graph_Type Object](#graph_type-object)\n",
    "\n",
    "#### **<u>Vertex Module</u>**\n",
    "[Vertex Object](#vertex-Object)\n",
    "* [accessible_types()](#accessible_types) - returns which types of vertices are accessible\n",
    "* [Vertex.info()](#vertex.info) - returns coordniates and type of Vertex\n",
    "\n",
    "[Vertex_Type Object](#vertex_type-object)\n",
    "\n",
    "#### **<u>Worker Module</u>**\n",
    "[Worker Object](#worker-Object)\n",
    "* [access()](#access) - determine whether Worker has access to given Vertex\n",
    "\n",
    "[Worker_Type Object](#worker_type-object)"
   ]
  },
  {
   "attachments": {},
   "cell_type": "markdown",
   "metadata": {},
   "source": [
    "## **Initial Setup**"
   ]
  },
  {
   "attachments": {},
   "cell_type": "markdown",
   "metadata": {},
   "source": [
    "###### Upon starting this challenge, competitors will need to download the required matrials from the [Off the Beaten Path](https://xeek.ai/challenges/off-the-beaten-path) challenge page. \n",
    "###### The Xeek team will provide:\n",
    "* An arguments file that will contain information to set up the problem. All participants will recieve the same arguments file. This file will contain information like **total budget**, **site rewards**, and **duration** of the simulation.\n",
    "* A graph JSON file. All participants will recieve the same `graph.json` file. This will be loaded into the `lyra_graphtool.Graph` object to set up the graph vertices and site information.\n",
    "* A starter notebook, similar to the [example solution](Lyra-starter-v0.ipynb), but without the example solution. This notebook will be your playground to write an algorithm to solve the Off the Beaten Path Challenge!\n",
    "###### Note: Ensure that the `lyra_graphtool` folder is saved in your project folder to avoid import issues\n"
   ]
  },
  {
   "attachments": {},
   "cell_type": "markdown",
   "metadata": {},
   "source": [
    "###### **Now let's get started!**\n",
    "###### Run the next 3 code cells in order to setup graphs, budgets, worker costs, rewards, and duration. Double check to make sure the file paths for the `lgtool.ProcessArgs.load()` are correct."
   ]
  },
  {
   "cell_type": "code",
   "execution_count": 1,
   "metadata": {},
   "outputs": [],
   "source": [
    "import random\n",
    "from copy import deepcopy\n",
    "from random import randint\n",
    "import pprint as pp\n",
    "\n",
    "import lyra_graphtool as lgtool\n",
    "from lyra_graphtool import Configuration, Config_Single_Time, Edge, Graph, Graph_Type, Parameters, Vertex, Worker_Type, Vertex_Type"
   ]
  },
  {
   "cell_type": "code",
   "execution_count": 2,
   "metadata": {},
   "outputs": [],
   "source": [
    "pargs = lgtool.ProcessArgs.load(arguments_file='../lyra-challenge/ready_setups/args_random', graph_file='../lyra-challenge/ready_setups/graph_random.json')"
   ]
  },
  {
   "cell_type": "code",
   "execution_count": 3,
   "metadata": {},
   "outputs": [],
   "source": [
    "params = lgtool.Parameters(pargs.graph, \n",
    "                           budget = pargs.args_trial.budget, \n",
    "                           duration_time = pargs.args_trial.duration,\n",
    "                           cost_rate = pargs.worker_cost_rate\n",
    "                           )\n",
    "\n",
    "cfg = lgtool.Configuration(params)"
   ]
  },
  {
   "cell_type": "code",
   "execution_count": 8,
   "metadata": {},
   "outputs": [],
   "source": [
    "cfg.load_from_json('./solutions/solution_random.json')"
   ]
  },
  {
   "attachments": {},
   "cell_type": "markdown",
   "metadata": {},
   "source": [
    "## **ProcessArgs Object**"
   ]
  },
  {
   "attachments": {},
   "cell_type": "markdown",
   "metadata": {},
   "source": [
    "#### The ProcessArgs object will be used in the intial setup of the problem. Xeek will provide the setup parameters for the graph and arguments file for the challenge. Challengers do, however, have the tools to create their own argument files. Remember, the final scoring will occur on a different argument file than what is provided, so it is to your advantage to create your own argument file(s) and test your algorithm to see if it is effiecient for all scenarios. Below will explore the functionality of the ProceesArgs object, by building a test arguments/graph file."
   ]
  },
  {
   "cell_type": "code",
   "execution_count": 53,
   "metadata": {},
   "outputs": [],
   "source": [
    "duration = 50 # amount of timesteps in problem\n",
    "duration = str(int(duration))\n",
    "arg_list_new = [\n",
    "    '--trial_name', 'trial1',    # name of trial\n",
    "    '--budget', '10000',          # budget that will be used by hiring workers of different types\n",
    "    '--duration', duration,      # amount of timesteps in problem\n",
    "    '--worker1_cost', '200',     # Worker_Type.WORKER1 cost/timestep which reduces our budget\n",
    "    '--worker2_cost', '400',     # Worker_Type.WORKER2 cost/timestep which reduces our budget\n",
    "    '--worker3_cost', '600',     # Worker_Type.WORKER3 cost/timestep which reduces our budget\n",
    "    ################## BELOW GRAPH ARGUMENTS ####################\n",
    "    '--filename_graph', '',      # if loading graph, max_x, max_y, num_verts, graph_type, num_site[k] (k=1,2,3) ignored\n",
    "    '--max_x', '10',             # max x coordinate during random or grid graph creation\n",
    "    '--max_y', '10',             # max y coordinate during random or grid graph creation\n",
    "    '--num_verts', '30',         # amount of vertices (travel points) that the graph will have\n",
    "    '--graph_type', 'grid',    # type of graph, either 'random' or 'grid' the difference between these is shown further in notebook\n",
    "    '--num_site1', '3',          # amount of Vertex_Type.SITE1 on the graph mind that amount of all sites cannot be greater than 'num_verts-1'\n",
    "    '--num_site2', '2',          # amount of Vertex_Type.SITE2 on the graph mind that amount of all sites cannot be greater than 'num_verts-1'\n",
    "    '--num_site3', '5',          # amount of Vertex_Type.SITE3 on the graph mind that amount of all sites cannot be greater than 'num_verts-1'\n",
    "    '--site1_acquire_time', '2',    # if args starting with 'site' are specified, they are imposed on loaded graph\n",
    "    '--site2_acquire_time', '4',    # timesteps needed to extract Vertex_Type.SITE2 reward\n",
    "    '--site3_acquire_time', '6',    # timesteps needed to extract Vertex_Type.SITE3 reward\n",
    "    '--site1_reward', '100',     # reward from extracting Vertex_Type.SITE1\n",
    "    '--site2_reward', '200',     # reward from extracting Vertex_Type.SITE2\n",
    "    '--site3_reward', '300',     # reward from extracting Vertex_Type.SITE3\n",
    "]"
   ]
  },
  {
   "attachments": {},
   "cell_type": "markdown",
   "metadata": {},
   "source": [
    "##### Create a `ProcessArgs` object and pass the new argument file through it"
   ]
  },
  {
   "cell_type": "code",
   "execution_count": 54,
   "metadata": {},
   "outputs": [],
   "source": [
    "new_pargs = lgtool.ProcessArgs(arg_list_new)"
   ]
  },
  {
   "attachments": {},
   "cell_type": "markdown",
   "metadata": {},
   "source": [
    "### **ProcessArgs.save()**"
   ]
  },
  {
   "attachments": {},
   "cell_type": "markdown",
   "metadata": {},
   "source": [
    "##### Save the new arguments file for future use"
   ]
  },
  {
   "cell_type": "code",
   "execution_count": 55,
   "metadata": {},
   "outputs": [],
   "source": [
    "new_pargs.save(f'ready_setups/args_{new_pargs.args_trial.trial_name}')"
   ]
  },
  {
   "attachments": {},
   "cell_type": "markdown",
   "metadata": {},
   "source": [
    "### **ProcessArgs.load()**"
   ]
  },
  {
   "attachments": {},
   "cell_type": "markdown",
   "metadata": {},
   "source": [
    "#### Load the new argument and graph files into ProcessArgs() using load()"
   ]
  },
  {
   "cell_type": "code",
   "execution_count": null,
   "metadata": {},
   "outputs": [],
   "source": [
    "new_pargs_from_load = lgtool.ProcessArgs.load(arguments_file='../lyra-challenge/ready_setups/args_args_trial1'\n",
    "                                            ,graph_file='../lyra-challenge/ready_setups/graph_trial1.json')"
   ]
  },
  {
   "attachments": {},
   "cell_type": "markdown",
   "metadata": {},
   "source": [
    "### **load_graph()**"
   ]
  },
  {
   "attachments": {},
   "cell_type": "markdown",
   "metadata": {},
   "source": [
    "##### Loading graph from filename into Site_Structures"
   ]
  },
  {
   "cell_type": "code",
   "execution_count": 69,
   "metadata": {},
   "outputs": [],
   "source": [
    "# code here, need to figure out how to use this"
   ]
  },
  {
   "attachments": {},
   "cell_type": "markdown",
   "metadata": {},
   "source": [
    "### **ProcessArgs.values_to_args()**"
   ]
  },
  {
   "attachments": {},
   "cell_type": "markdown",
   "metadata": {},
   "source": [
    "#### Finally, return the new arguments into a list and compare to what was created at the top, using values_to_args()"
   ]
  },
  {
   "cell_type": "code",
   "execution_count": 68,
   "metadata": {},
   "outputs": [
    {
     "name": "stdout",
     "output_type": "stream",
     "text": [
      "['--trial_name',\n",
      " 'trial1',\n",
      " '--max_x',\n",
      " '10',\n",
      " '--max_y',\n",
      " '10',\n",
      " '--num_verts',\n",
      " '30',\n",
      " '--graph_type',\n",
      " 'grid',\n",
      " '--num_site1',\n",
      " '3',\n",
      " '--num_site2',\n",
      " '2',\n",
      " '--num_site3',\n",
      " '5',\n",
      " '--site1_acquire_time',\n",
      " '2',\n",
      " '--site2_acquire_time',\n",
      " '4',\n",
      " '--site3_acquire_time',\n",
      " '6',\n",
      " '--site1_reward',\n",
      " '100.0',\n",
      " '--site2_reward',\n",
      " '200.0',\n",
      " '--site3_reward',\n",
      " '300.0',\n",
      " '--site1_mult_time',\n",
      " '1',\n",
      " '--site2_mult_time',\n",
      " '1',\n",
      " '--site3_mult_time',\n",
      " '1',\n",
      " '--site1_mult_time_active',\n",
      " '0, 50',\n",
      " '--site2_mult_time_active',\n",
      " '0, 50',\n",
      " '--site3_mult_time_active',\n",
      " '0, 50',\n",
      " '--site1_mult_workers',\n",
      " '1, 1, 1',\n",
      " '--site2_mult_workers',\n",
      " '1, 1, 1',\n",
      " '--site3_mult_workers',\n",
      " '1, 1, 1',\n",
      " '--site1_exp_time',\n",
      " '50',\n",
      " '--site2_exp_time',\n",
      " '50',\n",
      " '--site3_exp_time',\n",
      " '50',\n",
      " '--worker1_cost',\n",
      " '200.0',\n",
      " '--worker2_cost',\n",
      " '400.0',\n",
      " '--worker3_cost',\n",
      " '600.0',\n",
      " '--budget',\n",
      " '10000.0',\n",
      " '--duration',\n",
      " '50']\n"
     ]
    }
   ],
   "source": [
    "new_pargs_list = new_pargs.values_to_args() \n",
    "pp.pprint(new_pargs_list)"
   ]
  },
  {
   "attachments": {},
   "cell_type": "markdown",
   "metadata": {},
   "source": [
    "[Back to the Top!](#lyra-graphtool-tutorial)"
   ]
  },
  {
   "attachments": {},
   "cell_type": "markdown",
   "metadata": {},
   "source": [
    "-----------------------"
   ]
  },
  {
   "attachments": {},
   "cell_type": "markdown",
   "metadata": {},
   "source": [
    "## **Parameters Object**"
   ]
  },
  {
   "attachments": {},
   "cell_type": "markdown",
   "metadata": {},
   "source": [
    "##### The loaded arguments and graph can be wrapped with `lgtool.Parameters` class which can be further passed to the `lgtool.Configuration()` object."
   ]
  },
  {
   "cell_type": "code",
   "execution_count": 38,
   "metadata": {},
   "outputs": [],
   "source": [
    "params = lgtool.Parameters(graph = pargs.graph\n",
    "                           ,budget = pargs.args_trial.budget\n",
    "                           ,duration_time = pargs.args_trial.duration\n",
    "                           ,cost_rate = pargs.worker_cost_rate)"
   ]
  },
  {
   "attachments": {},
   "cell_type": "markdown",
   "metadata": {},
   "source": [
    "### **display()**"
   ]
  },
  {
   "attachments": {},
   "cell_type": "markdown",
   "metadata": {},
   "source": [
    "##### Use the `display()` function to view the check the arguments that were passed through `lgtool.Parameters`"
   ]
  },
  {
   "cell_type": "code",
   "execution_count": 42,
   "metadata": {},
   "outputs": [
    {
     "name": "stdout",
     "output_type": "stream",
     "text": [
      "{'budget': 1000.0, 'duration_time': 20, 'graph': <lyra_graphtool.graph.Graph object at 0x11842faf0>, 'worker_cost_rate': {<Worker_Type.WORKER1: 0>: 100.0, <Worker_Type.WORKER2: 1>: 200.0, <Worker_Type.WORKER3: 2>: 500.0}}\n"
     ]
    }
   ],
   "source": [
    "params.display()"
   ]
  },
  {
   "attachments": {},
   "cell_type": "markdown",
   "metadata": {},
   "source": [
    "##### Or call each individual argument passed through `lgtools.Parameters()` object"
   ]
  },
  {
   "cell_type": "code",
   "execution_count": 45,
   "metadata": {},
   "outputs": [
    {
     "name": "stdout",
     "output_type": "stream",
     "text": [
      "1000.0\n",
      "20\n",
      "<lyra_graphtool.graph.Graph object at 0x11842faf0>\n",
      "{<Worker_Type.WORKER1: 0>: 100.0, <Worker_Type.WORKER2: 1>: 200.0, <Worker_Type.WORKER3: 2>: 500.0}\n"
     ]
    }
   ],
   "source": [
    "print(params.budget)\n",
    "print(params.duration_time)\n",
    "print(params.graph)\n",
    "print(params.worker_cost_rate)"
   ]
  },
  {
   "attachments": {},
   "cell_type": "markdown",
   "metadata": {},
   "source": [
    "[Back to the Top!](#lyra-graphtool-tutorial)"
   ]
  },
  {
   "attachments": {},
   "cell_type": "markdown",
   "metadata": {},
   "source": [
    "-----------------------"
   ]
  },
  {
   "attachments": {},
   "cell_type": "markdown",
   "metadata": {},
   "source": [
    "## **Configuration Object**"
   ]
  },
  {
   "attachments": {},
   "cell_type": "markdown",
   "metadata": {},
   "source": [
    "##### The `lgtool.Configuration()` object contains not only the graph to be optimized, but also problem constraints and setup like budget, duration, and worker cost rates. Pass the arguments run through the `lgtool.Parameters()` section for set up. This module will be the workhorse to solve the challenge because it allows users to add, update, and extract most parameters for the challenge."
   ]
  },
  {
   "cell_type": "code",
   "execution_count": null,
   "metadata": {},
   "outputs": [],
   "source": [
    "params = lgtool.Parameters(pargs.graph, \n",
    "                           budget = pargs.args_trial.budget, \n",
    "                           duration_time = pargs.args_trial.duration,\n",
    "                           cost_rate = pargs.worker_cost_rate\n",
    "                           )\n",
    "\n",
    "cfg = lgtool.Configuration(params)"
   ]
  },
  {
   "attachments": {},
   "cell_type": "markdown",
   "metadata": {},
   "source": [
    "### **add_sched()**"
   ]
  },
  {
   "attachments": {},
   "cell_type": "markdown",
   "metadata": {},
   "source": [
    "##### Add a specific schedule for a Worker_Type (wt) and number of those worker (wn). To access the configuration dictionary, call `.config` on the Configuration object created in the intial setup. Users can access this information using this format: `Configuration.config[Worker_Type][worker number]`\n",
    "\n",
    "##### In the example below, `.config` is called on the Configuration object. We define that we want a `Worker_Type = WORKER1` and we want 1 of those workers."
   ]
  },
  {
   "cell_type": "code",
   "execution_count": 125,
   "metadata": {},
   "outputs": [
    {
     "name": "stdout",
     "output_type": "stream",
     "text": [
      "{0: <lyra_graphtool.configuration.Config_Single_Time object at 0x11f3a9b40>, 1: <lyra_graphtool.configuration.Config_Single_Time object at 0x11f262d40>, 2: <lyra_graphtool.configuration.Config_Single_Time object at 0x11f262da0>, 3: <lyra_graphtool.configuration.Config_Single_Time object at 0x11f262e00>, 4: <lyra_graphtool.configuration.Config_Single_Time object at 0x11f262e60>, 5: <lyra_graphtool.configuration.Config_Single_Time object at 0x11f262ec0>, 6: <lyra_graphtool.configuration.Config_Single_Time object at 0x11f262f20>, 7: <lyra_graphtool.configuration.Config_Single_Time object at 0x11f262f80>, 8: <lyra_graphtool.configuration.Config_Single_Time object at 0x11f262fe0>, 9: <lyra_graphtool.configuration.Config_Single_Time object at 0x11f263040>, 10: <lyra_graphtool.configuration.Config_Single_Time object at 0x11f2630a0>, 11: <lyra_graphtool.configuration.Config_Single_Time object at 0x11f263100>, 12: <lyra_graphtool.configuration.Config_Single_Time object at 0x11f263160>, 13: <lyra_graphtool.configuration.Config_Single_Time object at 0x11f2631c0>, 14: <lyra_graphtool.configuration.Config_Single_Time object at 0x11f263220>, 15: <lyra_graphtool.configuration.Config_Single_Time object at 0x11f263280>, 16: <lyra_graphtool.configuration.Config_Single_Time object at 0x11f2632e0>, 17: <lyra_graphtool.configuration.Config_Single_Time object at 0x11f263340>, 18: <lyra_graphtool.configuration.Config_Single_Time object at 0x11f2633a0>, 19: <lyra_graphtool.configuration.Config_Single_Time object at 0x11f263400>}\n"
     ]
    }
   ],
   "source": [
    "schedule_add = cfg.config[0][1]\n",
    "print(schedule_add)\n",
    "cfg.add_sched(wt = Worker_Type.WORKER1, wn=2, sched=schedule_add)"
   ]
  },
  {
   "attachments": {},
   "cell_type": "markdown",
   "metadata": {},
   "source": [
    "### **budget_feasible()**"
   ]
  },
  {
   "attachments": {},
   "cell_type": "markdown",
   "metadata": {},
   "source": [
    "##### Here we test whether the entire solution configuration stays within the budget contraints set in the arguments. This can be called on the `Configuration` object with no input arugments."
   ]
  },
  {
   "cell_type": "code",
   "execution_count": 126,
   "metadata": {},
   "outputs": [
    {
     "data": {
      "text/plain": [
       "True"
      ]
     },
     "execution_count": 126,
     "metadata": {},
     "output_type": "execute_result"
    }
   ],
   "source": [
    "cfg.budget_feasible()"
   ]
  },
  {
   "attachments": {},
   "cell_type": "markdown",
   "metadata": {},
   "source": [
    "### **cost()**"
   ]
  },
  {
   "attachments": {},
   "cell_type": "markdown",
   "metadata": {},
   "source": [
    "##### This will return the cost of the entire configuration. Remember, profit will be used to score the solution(`profit = revenue - cost`), so its important to not only increase revenue, but also be mindful of costs.  It can be called on the `Configuration` object with no input arguments."
   ]
  },
  {
   "cell_type": "code",
   "execution_count": 127,
   "metadata": {},
   "outputs": [
    {
     "data": {
      "text/plain": [
       "900.0"
      ]
     },
     "execution_count": 127,
     "metadata": {},
     "output_type": "execute_result"
    }
   ],
   "source": [
    "cfg.cost()"
   ]
  },
  {
   "attachments": {},
   "cell_type": "markdown",
   "metadata": {},
   "source": [
    "### **cost_sched()**"
   ]
  },
  {
   "attachments": {},
   "cell_type": "markdown",
   "metadata": {},
   "source": [
    "##### Users can calculate the cost of a single-worker schedule by inputting. "
   ]
  },
  {
   "cell_type": "code",
   "execution_count": 256,
   "metadata": {},
   "outputs": [
    {
     "data": {
      "text/plain": [
       "0"
      ]
     },
     "execution_count": 256,
     "metadata": {},
     "output_type": "execute_result"
    }
   ],
   "source": [
    "schedule = cfg.config\n",
    "cfg.cost_sched(sched = schedule[0][1],worker=Worker_Type.WORKER1)"
   ]
  },
  {
   "attachments": {},
   "cell_type": "markdown",
   "metadata": {},
   "source": [
    "### **feasible()**"
   ]
  },
  {
   "attachments": {},
   "cell_type": "markdown",
   "metadata": {},
   "source": [
    "##### Method to determine overall feasibility of the configuration in terms of space, buget, and access"
   ]
  },
  {
   "cell_type": "code",
   "execution_count": 212,
   "metadata": {},
   "outputs": [
    {
     "data": {
      "text/plain": [
       "True"
      ]
     },
     "execution_count": 212,
     "metadata": {},
     "output_type": "execute_result"
    }
   ],
   "source": [
    "cfg.feasible()"
   ]
  },
  {
   "attachments": {},
   "cell_type": "markdown",
   "metadata": {},
   "source": [
    "### **get_accessed_sites()**"
   ]
  },
  {
   "attachments": {},
   "cell_type": "markdown",
   "metadata": {},
   "source": [
    "##### Method to return the sites that were accessed in a schedule"
   ]
  },
  {
   "cell_type": "code",
   "execution_count": 213,
   "metadata": {},
   "outputs": [
    {
     "data": {
      "text/plain": [
       "({(3.0, 0.0): 0,\n",
       "  (3.0, 2.0): 0,\n",
       "  (3.0, 4.0): 0,\n",
       "  (2.0, 5.0): 0,\n",
       "  (4.0, 6.0): 0,\n",
       "  (1.0, 2.0): 0,\n",
       "  (1.0, 3.0): 0,\n",
       "  (7.0, 0.0): 0,\n",
       "  (7.0, 3.0): 0,\n",
       "  (5.0, 6.0): 0},\n",
       " 'Log of accesses:\\n')"
      ]
     },
     "execution_count": 213,
     "metadata": {},
     "output_type": "execute_result"
    }
   ],
   "source": [
    "schedule = cfg.config\n",
    "cfg.get_accessed_sites(schedule)"
   ]
  },
  {
   "attachments": {},
   "cell_type": "markdown",
   "metadata": {},
   "source": [
    "### **get_current_workers()**"
   ]
  },
  {
   "attachments": {},
   "cell_type": "markdown",
   "metadata": {},
   "source": [
    "##### Method to return a dictionary of the the workers used in the configuration. This requires the full configuration schedule as an input."
   ]
  },
  {
   "cell_type": "code",
   "execution_count": 214,
   "metadata": {},
   "outputs": [
    {
     "data": {
      "text/plain": [
       "{<Worker_Type.WORKER1: 0>: 1,\n",
       " <Worker_Type.WORKER2: 1>: 0,\n",
       " <Worker_Type.WORKER3: 2>: 0}"
      ]
     },
     "execution_count": 214,
     "metadata": {},
     "output_type": "execute_result"
    }
   ],
   "source": [
    "cfg.get_current_workers(schedule)"
   ]
  },
  {
   "attachments": {},
   "cell_type": "markdown",
   "metadata": {},
   "source": [
    "### **get_max_revenue()**"
   ]
  },
  {
   "attachments": {},
   "cell_type": "markdown",
   "metadata": {},
   "source": [
    "##### Get the maximum revenue earned for a particular graph configuration"
   ]
  },
  {
   "cell_type": "code",
   "execution_count": 165,
   "metadata": {},
   "outputs": [
    {
     "data": {
      "text/plain": [
       "2200.0"
      ]
     },
     "execution_count": 165,
     "metadata": {},
     "output_type": "execute_result"
    }
   ],
   "source": [
    "cfg.get_max_revenue()"
   ]
  },
  {
   "attachments": {},
   "cell_type": "markdown",
   "metadata": {},
   "source": [
    "### **get_sched_path_length()**"
   ]
  },
  {
   "attachments": {},
   "cell_type": "markdown",
   "metadata": {},
   "source": [
    "##### This is used to determine the length of one worker schedule (how many steps was the worker active). It requires a single schedule as an input"
   ]
  },
  {
   "cell_type": "code",
   "execution_count": 30,
   "metadata": {},
   "outputs": [
    {
     "data": {
      "text/plain": [
       "0"
      ]
     },
     "execution_count": 30,
     "metadata": {},
     "output_type": "execute_result"
    }
   ],
   "source": [
    "cfg.get_sched_path_length(schedule[0][9])"
   ]
  },
  {
   "attachments": {},
   "cell_type": "markdown",
   "metadata": {},
   "source": [
    "### **get_vertices_start()**"
   ]
  },
  {
   "attachments": {},
   "cell_type": "markdown",
   "metadata": {},
   "source": [
    "##### Returns the list vertices from which a worker's path must start"
   ]
  },
  {
   "cell_type": "code",
   "execution_count": 216,
   "metadata": {},
   "outputs": [
    {
     "name": "stdout",
     "output_type": "stream",
     "text": [
      "[<lyra_graphtool.vertex.Vertex object at 0x11fbee0b0>]\n"
     ]
    }
   ],
   "source": [
    "start = cfg.get_vertices_start()\n",
    "print(start)"
   ]
  },
  {
   "attachments": {},
   "cell_type": "markdown",
   "metadata": {},
   "source": [
    "### **get_worker()**"
   ]
  },
  {
   "attachments": {},
   "cell_type": "markdown",
   "metadata": {},
   "source": [
    "##### Method to return a Worker object. The worker object has rates compliant with the configuration"
   ]
  },
  {
   "cell_type": "code",
   "execution_count": 28,
   "metadata": {},
   "outputs": [
    {
     "data": {
      "text/plain": [
       "<lyra_graphtool.worker.Worker at 0x12fcb9e10>"
      ]
     },
     "execution_count": 28,
     "metadata": {},
     "output_type": "execute_result"
    }
   ],
   "source": [
    "cfg.get_worker(Worker_Type.WORKER1)\n"
   ]
  },
  {
   "attachments": {},
   "cell_type": "markdown",
   "metadata": {},
   "source": [
    "### **is_empty()**"
   ]
  },
  {
   "attachments": {},
   "cell_type": "markdown",
   "metadata": {},
   "source": [
    "##### Determine if a single worker schedule is empty"
   ]
  },
  {
   "cell_type": "code",
   "execution_count": 235,
   "metadata": {},
   "outputs": [
    {
     "data": {
      "text/plain": [
       "True"
      ]
     },
     "execution_count": 235,
     "metadata": {},
     "output_type": "execute_result"
    }
   ],
   "source": [
    "schedule = cfg.config\n",
    "cfg.is_empty(schedule[0][1])"
   ]
  },
  {
   "attachments": {},
   "cell_type": "markdown",
   "metadata": {},
   "source": [
    "### **load_from_json()**"
   ]
  },
  {
   "attachments": {},
   "cell_type": "markdown",
   "metadata": {},
   "source": [
    "##### Loading the configuration from a `.json `"
   ]
  },
  {
   "cell_type": "code",
   "execution_count": 245,
   "metadata": {},
   "outputs": [],
   "source": [
    "cfg.load_from_json(file_name='./solutions/solution_random.json')"
   ]
  },
  {
   "attachments": {},
   "cell_type": "markdown",
   "metadata": {},
   "source": [
    "### **revenue()**"
   ]
  },
  {
   "attachments": {},
   "cell_type": "markdown",
   "metadata": {},
   "source": [
    "##### This is a method to calculate the revenue for the entire schedule configuration"
   ]
  },
  {
   "cell_type": "code",
   "execution_count": 247,
   "metadata": {},
   "outputs": [
    {
     "data": {
      "text/plain": [
       "0"
      ]
     },
     "execution_count": 247,
     "metadata": {},
     "output_type": "execute_result"
    }
   ],
   "source": [
    "cfg.revenue()"
   ]
  },
  {
   "attachments": {},
   "cell_type": "markdown",
   "metadata": {},
   "source": [
    "### **save()**"
   ]
  },
  {
   "attachments": {},
   "cell_type": "markdown",
   "metadata": {},
   "source": [
    "##### Save the configuration solution as a pickle file"
   ]
  },
  {
   "cell_type": "code",
   "execution_count": 249,
   "metadata": {},
   "outputs": [],
   "source": [
    "cfg.save(file_name='./ready_setups/test_config_save')"
   ]
  },
  {
   "attachments": {},
   "cell_type": "markdown",
   "metadata": {},
   "source": [
    "### **save_to_json()**"
   ]
  },
  {
   "attachments": {},
   "cell_type": "markdown",
   "metadata": {},
   "source": [
    "##### Save the configuration solution as a `.json` file"
   ]
  },
  {
   "cell_type": "code",
   "execution_count": 250,
   "metadata": {},
   "outputs": [],
   "source": [
    "cfg.save_to_json('./ready_setups/test_config_save.json')"
   ]
  },
  {
   "attachments": {},
   "cell_type": "markdown",
   "metadata": {},
   "source": [
    "### **sched_all_feasible_access_sites()**"
   ]
  },
  {
   "attachments": {},
   "cell_type": "markdown",
   "metadata": {},
   "source": [
    "##### This method determines if a schedules's access properties are feasible"
   ]
  },
  {
   "cell_type": "code",
   "execution_count": 251,
   "metadata": {},
   "outputs": [
    {
     "data": {
      "text/plain": [
       "True"
      ]
     },
     "execution_count": 251,
     "metadata": {},
     "output_type": "execute_result"
    }
   ],
   "source": [
    "cfg.sched_all_feasible_access_sites()"
   ]
  },
  {
   "attachments": {},
   "cell_type": "markdown",
   "metadata": {},
   "source": [
    "### **sched_all_feasible_space()**"
   ]
  },
  {
   "attachments": {},
   "cell_type": "markdown",
   "metadata": {},
   "source": [
    "##### This is a method to determine if all schedules are spatially feasible"
   ]
  },
  {
   "cell_type": "code",
   "execution_count": 253,
   "metadata": {},
   "outputs": [
    {
     "data": {
      "text/plain": [
       "True"
      ]
     },
     "execution_count": 253,
     "metadata": {},
     "output_type": "execute_result"
    }
   ],
   "source": [
    "cfg.sched_all_feasible_space()"
   ]
  },
  {
   "attachments": {},
   "cell_type": "markdown",
   "metadata": {},
   "source": [
    "### **sched_feasible_access_sites()**"
   ]
  },
  {
   "attachments": {},
   "cell_type": "markdown",
   "metadata": {},
   "source": [
    "##### This method determines if a single schedule's access/extract properties are feasible. It requires the input of a single schedule and the Worker_Type class to test."
   ]
  },
  {
   "cell_type": "code",
   "execution_count": 255,
   "metadata": {},
   "outputs": [
    {
     "data": {
      "text/plain": [
       "True"
      ]
     },
     "execution_count": 255,
     "metadata": {},
     "output_type": "execute_result"
    }
   ],
   "source": [
    "schedule = cfg.config\n",
    "cfg.sched_feasible_access_sites(sched= schedule[0][1], worker_type= Worker_Type.WORKER1)"
   ]
  },
  {
   "attachments": {},
   "cell_type": "markdown",
   "metadata": {},
   "source": [
    "### **sched_feasible_space()**"
   ]
  },
  {
   "attachments": {},
   "cell_type": "markdown",
   "metadata": {},
   "source": [
    "##### This tests whether the whole configuration is spatially feasible and requires an input of a single schedule."
   ]
  },
  {
   "cell_type": "code",
   "execution_count": 25,
   "metadata": {},
   "outputs": [
    {
     "data": {
      "text/plain": [
       "True"
      ]
     },
     "execution_count": 25,
     "metadata": {},
     "output_type": "execute_result"
    }
   ],
   "source": [
    "schedule = cfg.config\n",
    "cfg.sched_feasible_space(sched=schedule[0][1])"
   ]
  },
  {
   "attachments": {},
   "cell_type": "markdown",
   "metadata": {},
   "source": [
    "### **sched_info()**"
   ]
  },
  {
   "attachments": {},
   "cell_type": "markdown",
   "metadata": {},
   "source": [
    "##### Prints information about specific workers schedule in the form: `[timestep, (x_coordinate, y_coordinate), Vertex_Type, accessed/not accessed]`"
   ]
  },
  {
   "cell_type": "code",
   "execution_count": 232,
   "metadata": {},
   "outputs": [
    {
     "data": {
      "text/plain": [
       "['[t=0, (None,None), vtype=None, acc=False ]',\n",
       " '[t=1, (None,None), vtype=None, acc=False ]',\n",
       " '[t=2, (None,None), vtype=None, acc=False ]',\n",
       " '[t=3, (None,None), vtype=None, acc=False ]',\n",
       " '[t=4, (None,None), vtype=None, acc=False ]',\n",
       " '[t=5, (None,None), vtype=None, acc=False ]',\n",
       " '[t=6, (None,None), vtype=None, acc=False ]',\n",
       " '[t=7, (None,None), vtype=None, acc=False ]',\n",
       " '[t=8, (None,None), vtype=None, acc=False ]',\n",
       " '[t=9, (None,None), vtype=None, acc=False ]',\n",
       " '[t=10, (None,None), vtype=None, acc=False ]',\n",
       " '[t=11, (None,None), vtype=None, acc=False ]',\n",
       " '[t=12, (None,None), vtype=None, acc=False ]',\n",
       " '[t=13, (None,None), vtype=None, acc=False ]',\n",
       " '[t=14, (None,None), vtype=None, acc=False ]',\n",
       " '[t=15, (None,None), vtype=None, acc=False ]',\n",
       " '[t=16, (None,None), vtype=None, acc=False ]',\n",
       " '[t=17, (None,None), vtype=None, acc=False ]',\n",
       " '[t=18, (None,None), vtype=None, acc=False ]',\n",
       " '[t=19, (None,None), vtype=None, acc=False ]']"
      ]
     },
     "execution_count": 232,
     "metadata": {},
     "output_type": "execute_result"
    }
   ],
   "source": [
    "schedule = cfg.config\n",
    "cfg.sched_info(schedule[0][2])"
   ]
  },
  {
   "attachments": {},
   "cell_type": "markdown",
   "metadata": {},
   "source": [
    "### **sched_revenue()**"
   ]
  },
  {
   "attachments": {},
   "cell_type": "markdown",
   "metadata": {},
   "source": [
    "##### This method requires a single schedule as an input and returns the revenue of that particular schedule"
   ]
  },
  {
   "cell_type": "code",
   "execution_count": 234,
   "metadata": {},
   "outputs": [
    {
     "data": {
      "text/plain": [
       "0"
      ]
     },
     "execution_count": 234,
     "metadata": {},
     "output_type": "execute_result"
    }
   ],
   "source": [
    "cfg.sched_revenue(schedule[0][2])"
   ]
  },
  {
   "attachments": {},
   "cell_type": "markdown",
   "metadata": {},
   "source": [
    "### **site_accessed()**"
   ]
  },
  {
   "attachments": {},
   "cell_type": "markdown",
   "metadata": {},
   "source": [
    "##### This method determines whether or not the site was accessed in the configuration. It reuqired a Vertex object as an input."
   ]
  },
  {
   "cell_type": "code",
   "execution_count": 187,
   "metadata": {},
   "outputs": [
    {
     "data": {
      "text/plain": [
       "False"
      ]
     },
     "execution_count": 187,
     "metadata": {},
     "output_type": "execute_result"
    }
   ],
   "source": [
    "v_orig = cfg.graph.get_vertices_type(lgtool.Vertex_Type.ORIGIN)[0]\n",
    "cfg.site_accessed(v=v_orig)"
   ]
  },
  {
   "attachments": {},
   "cell_type": "markdown",
   "metadata": {},
   "source": [
    "### **site_accessed_at_time()**"
   ]
  },
  {
   "attachments": {},
   "cell_type": "markdown",
   "metadata": {},
   "source": [
    "##### This method requires a Vertex as an input and returns whether of not that site was accessed at a given time. This example uses timestep=5. You can see that this site was not accessed at timestep=5."
   ]
  },
  {
   "cell_type": "code",
   "execution_count": 188,
   "metadata": {},
   "outputs": [
    {
     "data": {
      "text/plain": [
       "False"
      ]
     },
     "execution_count": 188,
     "metadata": {},
     "output_type": "execute_result"
    }
   ],
   "source": [
    "v_orig = cfg.graph.get_vertices_type(lgtool.Vertex_Type.SITE1)[0]\n",
    "cfg.site_accessed_at_time(v=v_orig, t=5)"
   ]
  },
  {
   "attachments": {},
   "cell_type": "markdown",
   "metadata": {},
   "source": [
    "[Back to the Top!](#lyra-graphtool-tutorial)"
   ]
  },
  {
   "attachments": {},
   "cell_type": "markdown",
   "metadata": {},
   "source": [
    "-----------------------"
   ]
  },
  {
   "attachments": {},
   "cell_type": "markdown",
   "metadata": {},
   "source": [
    "## **Edge Object**"
   ]
  },
  {
   "attachments": {},
   "cell_type": "markdown",
   "metadata": {},
   "source": [
    "### **Edge.info()**"
   ]
  },
  {
   "attachments": {},
   "cell_type": "markdown",
   "metadata": {},
   "source": [
    "##### `Edge.info()` returns the edge information about a given Edge object"
   ]
  },
  {
   "cell_type": "code",
   "execution_count": 17,
   "metadata": {},
   "outputs": [
    {
     "data": {
      "text/plain": [
       "[(3.0, 0.0), (5.0, 0.0)]"
      ]
     },
     "execution_count": 17,
     "metadata": {},
     "output_type": "execute_result"
    }
   ],
   "source": [
    "verts = pargs.graph.vertices\n",
    "v1 = verts[0]\n",
    "v2 = verts[-1]\n",
    "\n",
    "edge_obj = lgtool.Edge(v1=v1,v2=v2)\n",
    "edge_obj.info()"
   ]
  },
  {
   "attachments": {},
   "cell_type": "markdown",
   "metadata": {},
   "source": [
    "### **in_graph()**"
   ]
  },
  {
   "attachments": {},
   "cell_type": "markdown",
   "metadata": {},
   "source": [
    "##### This method determines if the edge is allowed to travel in 1 timestep"
   ]
  },
  {
   "cell_type": "code",
   "execution_count": 13,
   "metadata": {},
   "outputs": [
    {
     "data": {
      "text/plain": [
       "False"
      ]
     },
     "execution_count": 13,
     "metadata": {},
     "output_type": "execute_result"
    }
   ],
   "source": [
    "verts = pargs.graph.vertices\n",
    "v1 = verts[0]\n",
    "v2 = verts[-1]\n",
    "\n",
    "edge_obj = lgtool.Edge(v1=v1,v2=v2)\n",
    "edge_obj.in_graph()"
   ]
  },
  {
   "attachments": {},
   "cell_type": "markdown",
   "metadata": {},
   "source": [
    "### **nearest_neighbor()**"
   ]
  },
  {
   "attachments": {},
   "cell_type": "markdown",
   "metadata": {},
   "source": [
    "##### This method requires an input of two vertices on the graph and determines if they are near each other."
   ]
  },
  {
   "cell_type": "code",
   "execution_count": 16,
   "metadata": {},
   "outputs": [
    {
     "data": {
      "text/plain": [
       "False"
      ]
     },
     "execution_count": 16,
     "metadata": {},
     "output_type": "execute_result"
    }
   ],
   "source": [
    "verts = pargs.graph.vertices\n",
    "v1 = verts[0]\n",
    "v2 = verts[-1]\n",
    "\n",
    "edge_obj = lgtool.Edge(v1=v1,v2=v2)\n",
    "edge_obj.nearest_neighbor()"
   ]
  },
  {
   "attachments": {},
   "cell_type": "markdown",
   "metadata": {},
   "source": [
    "[Back to the Top!](#lyra-graphtool-tutorial)"
   ]
  },
  {
   "attachments": {},
   "cell_type": "markdown",
   "metadata": {},
   "source": [
    "-----------------------"
   ]
  },
  {
   "attachments": {},
   "cell_type": "markdown",
   "metadata": {},
   "source": [
    "## **Graph Object**"
   ]
  },
  {
   "attachments": {},
   "cell_type": "markdown",
   "metadata": {},
   "source": [
    "### **add_vertex()**"
   ]
  },
  {
   "attachments": {},
   "cell_type": "markdown",
   "metadata": {},
   "source": [
    "##### `add_vertex()` allows users to manually add a vertex to the graph configuration"
   ]
  },
  {
   "cell_type": "code",
   "execution_count": 22,
   "metadata": {},
   "outputs": [
    {
     "name": "stdout",
     "output_type": "stream",
     "text": [
      "<lyra_graphtool.vertex.Vertex object at 0x1285a21d0>\n",
      "after translations in x and y, no reduction in components\n",
      "components:\n",
      "{(9, 7): (<Vertex_Type.SITE3: 4>, 1)}\n"
     ]
    }
   ],
   "source": [
    "verts = lgtool.Vertex(1, 1, Vertex_Type.SITE3, reward=1000)\n",
    "\n",
    "print(verts)\n",
    "cfg.graph.add_vertex(v=verts)"
   ]
  },
  {
   "attachments": {},
   "cell_type": "markdown",
   "metadata": {},
   "source": [
    "### **adjacent_vertices()**"
   ]
  },
  {
   "attachments": {},
   "cell_type": "markdown",
   "metadata": {},
   "source": [
    "##### This method returns which vertices are adjacent to a given vertex"
   ]
  },
  {
   "cell_type": "code",
   "execution_count": 39,
   "metadata": {},
   "outputs": [
    {
     "data": {
      "text/plain": [
       "[<lyra_graphtool.vertex.Vertex at 0x10b57b670>,\n",
       " <lyra_graphtool.vertex.Vertex at 0x10b57b610>,\n",
       " <lyra_graphtool.vertex.Vertex at 0x10bc1c400>,\n",
       " <lyra_graphtool.vertex.Vertex at 0x10bc1c520>,\n",
       " <lyra_graphtool.vertex.Vertex at 0x10bc1c5e0>]"
      ]
     },
     "execution_count": 39,
     "metadata": {},
     "output_type": "execute_result"
    }
   ],
   "source": [
    "cfg.graph.adjacent_vertices(v=verts)"
   ]
  },
  {
   "attachments": {},
   "cell_type": "markdown",
   "metadata": {},
   "source": [
    "### **closest_vertices()**"
   ]
  },
  {
   "attachments": {},
   "cell_type": "markdown",
   "metadata": {},
   "source": [
    "##### `closest_vertices()` returns a list the closet vertices to a given vertex"
   ]
  },
  {
   "cell_type": "code",
   "execution_count": 24,
   "metadata": {},
   "outputs": [
    {
     "name": "stdout",
     "output_type": "stream",
     "text": [
      "[<lyra_graphtool.vertex.Vertex object at 0x11f7efd60>,\n",
      " <lyra_graphtool.vertex.Vertex object at 0x11f7efdf0>,\n",
      " <lyra_graphtool.vertex.Vertex object at 0x11f7eea40>,\n",
      " <lyra_graphtool.vertex.Vertex object at 0x11f7ee950>]\n"
     ]
    }
   ],
   "source": [
    "closest_verts_list = cfg.graph.closest_vertices(v=verts)\n",
    "pp.pprint(closest_verts_list)"
   ]
  },
  {
   "attachments": {},
   "cell_type": "markdown",
   "metadata": {},
   "source": [
    "### **connected_components()**"
   ]
  },
  {
   "attachments": {},
   "cell_type": "markdown",
   "metadata": {},
   "source": [
    "##### `connected_components()` returns a list of vertices that are connected"
   ]
  },
  {
   "cell_type": "code",
   "execution_count": 41,
   "metadata": {},
   "outputs": [
    {
     "data": {
      "text/plain": [
       "[[<lyra_graphtool.vertex.Vertex at 0x10b57b670>,\n",
       "  <lyra_graphtool.vertex.Vertex at 0x10bc1c400>,\n",
       "  <lyra_graphtool.vertex.Vertex at 0x10bc1c430>,\n",
       "  <lyra_graphtool.vertex.Vertex at 0x10b57b610>,\n",
       "  <lyra_graphtool.vertex.Vertex at 0x10bc1c3d0>,\n",
       "  <lyra_graphtool.vertex.Vertex at 0x10bc1c370>,\n",
       "  <lyra_graphtool.vertex.Vertex at 0x10bc1c490>,\n",
       "  <lyra_graphtool.vertex.Vertex at 0x10b57bc40>,\n",
       "  <lyra_graphtool.vertex.Vertex at 0x10bc1c3a0>,\n",
       "  <lyra_graphtool.vertex.Vertex at 0x10bc1c460>,\n",
       "  <lyra_graphtool.vertex.Vertex at 0x10bc1c5b0>,\n",
       "  <lyra_graphtool.vertex.Vertex at 0x10bc1c610>,\n",
       "  <lyra_graphtool.vertex.Vertex at 0x10bc1c640>,\n",
       "  <lyra_graphtool.vertex.Vertex at 0x10bc1c670>,\n",
       "  <lyra_graphtool.vertex.Vertex at 0x10bc1c550>,\n",
       "  <lyra_graphtool.vertex.Vertex at 0x10bd45e10>,\n",
       "  <lyra_graphtool.vertex.Vertex at 0x10bc1c4f0>,\n",
       "  <lyra_graphtool.vertex.Vertex at 0x10bc1c7f0>,\n",
       "  <lyra_graphtool.vertex.Vertex at 0x10bc1c820>,\n",
       "  <lyra_graphtool.vertex.Vertex at 0x10bc1c520>,\n",
       "  <lyra_graphtool.vertex.Vertex at 0x10bc1c580>,\n",
       "  <lyra_graphtool.vertex.Vertex at 0x10bc1c4c0>,\n",
       "  <lyra_graphtool.vertex.Vertex at 0x10bc1c7c0>,\n",
       "  <lyra_graphtool.vertex.Vertex at 0x10bc1c760>,\n",
       "  <lyra_graphtool.vertex.Vertex at 0x10bc1c6a0>,\n",
       "  <lyra_graphtool.vertex.Vertex at 0x10bc1c700>,\n",
       "  <lyra_graphtool.vertex.Vertex at 0x10bc1c790>,\n",
       "  <lyra_graphtool.vertex.Vertex at 0x10bc1c850>,\n",
       "  <lyra_graphtool.vertex.Vertex at 0x10bc1c730>,\n",
       "  <lyra_graphtool.vertex.Vertex at 0x10bc1c6d0>,\n",
       "  <lyra_graphtool.vertex.Vertex at 0x10bc1c5e0>]]"
      ]
     },
     "execution_count": 41,
     "metadata": {},
     "output_type": "execute_result"
    }
   ],
   "source": [
    "cfg.graph.connected_components()"
   ]
  },
  {
   "attachments": {},
   "cell_type": "markdown",
   "metadata": {},
   "source": [
    "### **depth_first_search()**"
   ]
  },
  {
   "attachments": {},
   "cell_type": "markdown",
   "metadata": {},
   "source": []
  },
  {
   "cell_type": "code",
   "execution_count": 20,
   "metadata": {},
   "outputs": [],
   "source": [
    "# unclear what this function returns?"
   ]
  },
  {
   "attachments": {},
   "cell_type": "markdown",
   "metadata": {},
   "source": [
    "### **distance()**"
   ]
  },
  {
   "attachments": {},
   "cell_type": "markdown",
   "metadata": {},
   "source": [
    "### **get_edges_at_vertex()**"
   ]
  },
  {
   "attachments": {},
   "cell_type": "markdown",
   "metadata": {},
   "source": [
    "##### The `get_edges_at_vertex()` method will return a list of edges at a given vertex. Here we define our vertex using [get_vertex_xy()](#get_vertex_xy) with coordinates (x=2,y=3)"
   ]
  },
  {
   "cell_type": "code",
   "execution_count": 18,
   "metadata": {},
   "outputs": [
    {
     "name": "stdout",
     "output_type": "stream",
     "text": [
      "[<lyra_graphtool.edge.Edge object at 0x11771aa70>,\n",
      " <lyra_graphtool.edge.Edge object at 0x11771ad10>,\n",
      " <lyra_graphtool.edge.Edge object at 0x11771ae30>,\n",
      " <lyra_graphtool.edge.Edge object at 0x11771aef0>]\n"
     ]
    }
   ],
   "source": [
    "verts = cfg.graph.get_vertex_xy(x=2,y=3)\n",
    "vert_edges = cfg.graph.get_edges_at_vertex(v=verts)\n",
    "pp.pprint(vert_edges)"
   ]
  },
  {
   "attachments": {},
   "cell_type": "markdown",
   "metadata": {},
   "source": [
    "### **edges_info()**"
   ]
  },
  {
   "attachments": {},
   "cell_type": "markdown",
   "metadata": {},
   "source": [
    "##### This method will return the edges for the entire graph"
   ]
  },
  {
   "cell_type": "code",
   "execution_count": 22,
   "metadata": {},
   "outputs": [
    {
     "name": "stdout",
     "output_type": "stream",
     "text": [
      "{((0.0, 7.0), (0.0, 6.0)): 1,\n",
      " ((0.0, 8.0), (0.0, 7.0)): 1,\n",
      " ((1.0, 2.0), (1.0, 3.0)): 1,\n",
      " ((1.0, 5.0), (0.0, 6.0)): 1,\n",
      " ((1.0, 7.0), (0.0, 6.0)): 1,\n",
      " ((1.0, 7.0), (0.0, 7.0)): 1,\n",
      " ((1.0, 7.0), (0.0, 8.0)): 1,\n",
      " ((2.0, 0.0), (1.0, 0.0)): 1,\n",
      " ((2.0, 0.0), (2.0, 1.0)): 1,\n",
      " ((2.0, 1.0), (1.0, 0.0)): 1,\n",
      " ((2.0, 1.0), (1.0, 2.0)): 1,\n",
      " ((2.0, 3.0), (1.0, 2.0)): 1,\n",
      " ((2.0, 3.0), (1.0, 3.0)): 1,\n",
      " ((2.0, 5.0), (1.0, 5.0)): 1,\n",
      " ((2.0, 8.0), (1.0, 7.0)): 1,\n",
      " ((3.0, 0.0), (2.0, 0.0)): 1,\n",
      " ((3.0, 0.0), (2.0, 1.0)): 1,\n",
      " ((3.0, 0.0), (4.0, 1.0)): 1,\n",
      " ((3.0, 2.0), (2.0, 1.0)): 1,\n",
      " ((3.0, 2.0), (2.0, 3.0)): 1,\n",
      " ((3.0, 2.0), (4.0, 1.0)): 1,\n",
      " ((3.0, 4.0), (2.0, 3.0)): 1,\n",
      " ((3.0, 4.0), (2.0, 5.0)): 1,\n",
      " ((3.0, 6.0), (2.0, 5.0)): 1,\n",
      " ((3.0, 6.0), (3.0, 7.0)): 1,\n",
      " ((3.0, 6.0), (4.0, 6.0)): 1,\n",
      " ((3.0, 7.0), (2.0, 8.0)): 1,\n",
      " ((3.0, 7.0), (4.0, 6.0)): 1,\n",
      " ((4.0, 1.0), (5.0, 0.0)): 1,\n",
      " ((4.0, 1.0), (5.0, 2.0)): 1,\n",
      " ((4.0, 6.0), (5.0, 6.0)): 1,\n",
      " ((4.0, 6.0), (5.0, 7.0)): 1,\n",
      " ((5.0, 6.0), (5.0, 7.0)): 1,\n",
      " ((6.0, 0.0), (5.0, 0.0)): 1,\n",
      " ((6.0, 2.0), (5.0, 2.0)): 1,\n",
      " ((7.0, 0.0), (6.0, 0.0)): 1,\n",
      " ((7.0, 1.0), (6.0, 0.0)): 1,\n",
      " ((7.0, 1.0), (6.0, 2.0)): 1,\n",
      " ((7.0, 1.0), (7.0, 0.0)): 1,\n",
      " ((7.0, 3.0), (6.0, 2.0)): 1,\n",
      " ((7.0, 4.0), (7.0, 3.0)): 1}\n"
     ]
    }
   ],
   "source": [
    "edge_list = cfg.graph.edges_info()\n",
    "pp.pprint(edge_list)"
   ]
  },
  {
   "attachments": {},
   "cell_type": "markdown",
   "metadata": {},
   "source": [
    "### **get_vertex_xy()**"
   ]
  },
  {
   "attachments": {},
   "cell_type": "markdown",
   "metadata": {},
   "source": [
    "##### This method returns the vertex object at given (x,y) coordinates"
   ]
  },
  {
   "cell_type": "code",
   "execution_count": 16,
   "metadata": {},
   "outputs": [
    {
     "name": "stdout",
     "output_type": "stream",
     "text": [
      "[(3.0, 4.0), <Vertex_Type.SITE1: 2>]\n"
     ]
    }
   ],
   "source": [
    "specified_verts = cfg.graph.get_vertex_xy(x=3,y=4)\n",
    "print(specified_verts.info())"
   ]
  },
  {
   "attachments": {},
   "cell_type": "markdown",
   "metadata": {},
   "source": [
    "### **get_vertices_type()**"
   ]
  },
  {
   "attachments": {},
   "cell_type": "markdown",
   "metadata": {},
   "source": [
    "##### We can use this method to extract vertices of a specific Vertex_Type"
   ]
  },
  {
   "cell_type": "code",
   "execution_count": 46,
   "metadata": {},
   "outputs": [
    {
     "name": "stdout",
     "output_type": "stream",
     "text": [
      "[<lyra_graphtool.vertex.Vertex object at 0x10bc1c370>,\n",
      " <lyra_graphtool.vertex.Vertex object at 0x10bc1c580>,\n",
      " <lyra_graphtool.vertex.Vertex object at 0x10bc1c700>]\n"
     ]
    }
   ],
   "source": [
    "site1_vert_list = cfg.graph.get_vertices_type(v_type=Vertex_Type.SITE1)\n",
    "pp.pprint(site1_vert_list)"
   ]
  },
  {
   "attachments": {},
   "cell_type": "markdown",
   "metadata": {},
   "source": [
    "### **isolated_vertices()**\n"
   ]
  },
  {
   "attachments": {},
   "cell_type": "markdown",
   "metadata": {},
   "source": [
    "##### Using `isolated_vertices()`, users can determine if any of the vertices in the graph are isolated from other vertices in the graph configuration."
   ]
  },
  {
   "cell_type": "code",
   "execution_count": 12,
   "metadata": {},
   "outputs": [
    {
     "name": "stdout",
     "output_type": "stream",
     "text": [
      "[<lyra_graphtool.vertex.Vertex object at 0x11f7ee800>]\n"
     ]
    }
   ],
   "source": [
    "isolated_verts_list = cfg.graph.isolated_vertices()\n",
    "pp.pprint(isolated_verts_list)"
   ]
  },
  {
   "attachments": {},
   "cell_type": "markdown",
   "metadata": {},
   "source": [
    "### **load_from_json()**\n"
   ]
  },
  {
   "attachments": {},
   "cell_type": "markdown",
   "metadata": {},
   "source": [
    "##### Load `.json` graph files into the Configuration object"
   ]
  },
  {
   "cell_type": "code",
   "execution_count": 24,
   "metadata": {},
   "outputs": [],
   "source": [
    "cfg.graph.load_from_json(file_name='./ready_setups/graph_sample.json')"
   ]
  },
  {
   "attachments": {},
   "cell_type": "markdown",
   "metadata": {},
   "source": [
    "### **make_graph_connected()**\n"
   ]
  },
  {
   "attachments": {},
   "cell_type": "markdown",
   "metadata": {},
   "source": [
    "### **paths()**\n"
   ]
  },
  {
   "attachments": {},
   "cell_type": "markdown",
   "metadata": {},
   "source": [
    "##### Another import method for the challenge is `paths()`, When provided with two vertices, this method will return ever possible path that can connect the two points."
   ]
  },
  {
   "cell_type": "code",
   "execution_count": null,
   "metadata": {},
   "outputs": [],
   "source": [
    "# get two verts and then get paths between them\n",
    "verts = pargs.graph.vertices\n",
    "\n",
    "# pick first and last vertex in the list\n",
    "v1 = verts[0]\n",
    "v2 = verts[-1]\n",
    "\n",
    "print(v1.info(),v2.info())\n",
    "print('\\n')\n",
    "paths12 = pargs.graph.paths(v1,v2)\n",
    "\n",
    "print('\\n')\n",
    "for p in paths12:\n",
    "    path = []\n",
    "    for v in p:\n",
    "        path.append((v.x,v.y))\n",
    "        \n",
    "    display(path)\n",
    "    # print_graph() method when provided with a list of vertices, highlights them in orange\n",
    "    pargs.graph.print_graph(p)"
   ]
  },
  {
   "attachments": {},
   "cell_type": "markdown",
   "metadata": {},
   "source": [
    "### **print_graph()**\n"
   ]
  },
  {
   "attachments": {},
   "cell_type": "markdown",
   "metadata": {},
   "source": [
    "##### The `print_graph()` method will be one of the most important used during the challenge, because it will allow you to visualize your the solution that your algorithm has created."
   ]
  },
  {
   "cell_type": "code",
   "execution_count": 12,
   "metadata": {},
   "outputs": [
    {
     "data": {
      "image/png": "[encoded data removed]",
      "text/plain": [
       "<Figure size 640x480 with 1 Axes>"
      ]
     },
     "metadata": {},
     "output_type": "display_data"
    }
   ],
   "source": [
    "pargs.graph.print_graph()"
   ]
  },
  {
   "attachments": {},
   "cell_type": "markdown",
   "metadata": {},
   "source": [
    "### **Graph.save()**\n"
   ]
  },
  {
   "attachments": {},
   "cell_type": "markdown",
   "metadata": {},
   "source": [
    "##### Save the graph to a pickle file for future use"
   ]
  },
  {
   "cell_type": "code",
   "execution_count": 11,
   "metadata": {},
   "outputs": [],
   "source": [
    "pargs.graph.save(file_name= './ready_setups/test_graph_save')"
   ]
  },
  {
   "attachments": {},
   "cell_type": "markdown",
   "metadata": {},
   "source": [
    "### **Graph.save_to_json()**\n"
   ]
  },
  {
   "attachments": {},
   "cell_type": "markdown",
   "metadata": {},
   "source": [
    "##### Save the new graph to a `.json` file for later use"
   ]
  },
  {
   "cell_type": "code",
   "execution_count": 70,
   "metadata": {},
   "outputs": [],
   "source": [
    "new_pargs.graph.save_to_json(f'ready_setups/graph_{new_pargs.args_trial.trial_name}.json')"
   ]
  },
  {
   "attachments": {},
   "cell_type": "markdown",
   "metadata": {},
   "source": [
    "### **set_edges()**\n"
   ]
  },
  {
   "attachments": {},
   "cell_type": "markdown",
   "metadata": {},
   "source": [
    "##### unclear what this does?"
   ]
  },
  {
   "cell_type": "code",
   "execution_count": 9,
   "metadata": {},
   "outputs": [
    {
     "data": {
      "text/plain": [
       "[<lyra_graphtool.edge.Edge at 0x11771a950>,\n",
       " <lyra_graphtool.edge.Edge at 0x11771a9b0>,\n",
       " <lyra_graphtool.edge.Edge at 0x11771aa10>,\n",
       " <lyra_graphtool.edge.Edge at 0x11771aa70>,\n",
       " <lyra_graphtool.edge.Edge at 0x11771ab30>,\n",
       " <lyra_graphtool.edge.Edge at 0x11771aad0>,\n",
       " <lyra_graphtool.edge.Edge at 0x11771abf0>,\n",
       " <lyra_graphtool.edge.Edge at 0x11771ab90>,\n",
       " <lyra_graphtool.edge.Edge at 0x11771acb0>,\n",
       " <lyra_graphtool.edge.Edge at 0x11771ad10>,\n",
       " <lyra_graphtool.edge.Edge at 0x11771ad70>,\n",
       " <lyra_graphtool.edge.Edge at 0x11771ac50>,\n",
       " <lyra_graphtool.edge.Edge at 0x11771add0>,\n",
       " <lyra_graphtool.edge.Edge at 0x11771ae30>,\n",
       " <lyra_graphtool.edge.Edge at 0x11771aef0>,\n",
       " <lyra_graphtool.edge.Edge at 0x11771ae90>,\n",
       " <lyra_graphtool.edge.Edge at 0x11771af50>,\n",
       " <lyra_graphtool.edge.Edge at 0x11771b010>,\n",
       " <lyra_graphtool.edge.Edge at 0x11771b070>,\n",
       " <lyra_graphtool.edge.Edge at 0x11771afb0>,\n",
       " <lyra_graphtool.edge.Edge at 0x11771b130>,\n",
       " <lyra_graphtool.edge.Edge at 0x11771b0d0>,\n",
       " <lyra_graphtool.edge.Edge at 0x11771b190>,\n",
       " <lyra_graphtool.edge.Edge at 0x11771b250>,\n",
       " <lyra_graphtool.edge.Edge at 0x11771b1f0>,\n",
       " <lyra_graphtool.edge.Edge at 0x11771b310>,\n",
       " <lyra_graphtool.edge.Edge at 0x11771b2b0>,\n",
       " <lyra_graphtool.edge.Edge at 0x11771b3d0>,\n",
       " <lyra_graphtool.edge.Edge at 0x11771b370>,\n",
       " <lyra_graphtool.edge.Edge at 0x11771b430>,\n",
       " <lyra_graphtool.edge.Edge at 0x11771b490>,\n",
       " <lyra_graphtool.edge.Edge at 0x11771b4f0>,\n",
       " <lyra_graphtool.edge.Edge at 0x11771b550>,\n",
       " <lyra_graphtool.edge.Edge at 0x11771b610>,\n",
       " <lyra_graphtool.edge.Edge at 0x11771b5b0>,\n",
       " <lyra_graphtool.edge.Edge at 0x11771b6d0>,\n",
       " <lyra_graphtool.edge.Edge at 0x11771b730>,\n",
       " <lyra_graphtool.edge.Edge at 0x11771b670>,\n",
       " <lyra_graphtool.edge.Edge at 0x11771b7f0>,\n",
       " <lyra_graphtool.edge.Edge at 0x11771b790>,\n",
       " <lyra_graphtool.edge.Edge at 0x117833a00>]"
      ]
     },
     "execution_count": 9,
     "metadata": {},
     "output_type": "execute_result"
    }
   ],
   "source": [
    "cfg.graph.set_edges()"
   ]
  },
  {
   "attachments": {},
   "cell_type": "markdown",
   "metadata": {},
   "source": [
    "### **set_random_sites_origin()**"
   ]
  },
  {
   "attachments": {},
   "cell_type": "markdown",
   "metadata": {},
   "source": [
    "##### unclear what this does?"
   ]
  },
  {
   "cell_type": "code",
   "execution_count": 6,
   "metadata": {},
   "outputs": [],
   "source": [
    "cfg.graph.set_random_sites_origin(n_site1=3,n_site2=4,n_site3=5)"
   ]
  },
  {
   "attachments": {},
   "cell_type": "markdown",
   "metadata": {},
   "source": [
    "### **set_vertex_type()**"
   ]
  },
  {
   "attachments": {},
   "cell_type": "markdown",
   "metadata": {},
   "source": [
    "##### We can use the `set_vertex_type()` method to manually set a particular Vertex object, by defining the `Vertex_Type` and (x,y) coordinates"
   ]
  },
  {
   "cell_type": "code",
   "execution_count": 28,
   "metadata": {},
   "outputs": [
    {
     "name": "stdout",
     "output_type": "stream",
     "text": [
      "[(5.0, 6.0), <Vertex_Type.SITE2: 3>]\n"
     ]
    }
   ],
   "source": [
    "set_verts = cfg.graph.set_vertex_type(v_type= Vertex_Type.SITE2, x=5, y=6)\n",
    "print(set_verts.info())"
   ]
  },
  {
   "attachments": {},
   "cell_type": "markdown",
   "metadata": {},
   "source": [
    "### **set_vertex_coords()**"
   ]
  },
  {
   "attachments": {},
   "cell_type": "markdown",
   "metadata": {},
   "source": [
    "##### Similar to `set_vertex_type()`, `set_vertex_coords()` will set a defined Vertex_Type to specificed (x,y) coordinates"
   ]
  },
  {
   "cell_type": "code",
   "execution_count": 5,
   "metadata": {},
   "outputs": [
    {
     "name": "stdout",
     "output_type": "stream",
     "text": [
      "Coordinates of Input Vertex:[(1, 2), <Vertex_Type.BASIC: 0>]\n",
      "Coordinates of New Vertex:[(9, 7), <Vertex_Type.SITE3: 4>]\n"
     ]
    }
   ],
   "source": [
    "input_vertex = lgtool.Vertex(x=1,y=2,v_type=Vertex_Type.BASIC)\n",
    "print(f'Coordinates of Input Vertex:{input_vertex.info()}')\n",
    "new_vertex = cfg.graph.set_vertex_coords(v=input_vertex, x=9,y=7)\n",
    "print(f'Coordinates of New Vertex:{new_vertex.info()}')"
   ]
  },
  {
   "attachments": {},
   "cell_type": "markdown",
   "metadata": {},
   "source": [
    "### **vertices_array()**"
   ]
  },
  {
   "attachments": {},
   "cell_type": "markdown",
   "metadata": {},
   "source": [
    "##### We can use the `vertices_array()` method to extract a Numpy array of vertices in the graph"
   ]
  },
  {
   "cell_type": "code",
   "execution_count": 50,
   "metadata": {},
   "outputs": [
    {
     "name": "stdout",
     "output_type": "stream",
     "text": [
      "[[3. 0.]\n",
      " [3. 2.]\n",
      " [3. 6.]\n",
      " [3. 4.]\n",
      " [3. 7.]\n",
      " [2. 3.]\n",
      " [2. 0.]\n",
      " [2. 1.]\n",
      " [2. 8.]\n",
      " [2. 5.]\n",
      " [4. 1.]\n",
      " [4. 6.]\n",
      " [1. 2.]\n",
      " [1. 5.]\n",
      " [1. 3.]\n",
      " [1. 7.]\n",
      " [1. 0.]\n",
      " [0. 8.]\n",
      " [0. 7.]\n",
      " [0. 6.]\n",
      " [7. 1.]\n",
      " [7. 4.]\n",
      " [7. 0.]\n",
      " [7. 3.]\n",
      " [6. 2.]\n",
      " [6. 0.]\n",
      " [5. 2.]\n",
      " [5. 6.]\n",
      " [5. 7.]\n",
      " [5. 0.]\n",
      " [0. 9.]\n",
      " [2. 1.]\n",
      " [2. 1.]]\n"
     ]
    }
   ],
   "source": [
    "vert_array = cfg.graph.vertices_array()\n",
    "print(vert_array)"
   ]
  },
  {
   "attachments": {},
   "cell_type": "markdown",
   "metadata": {},
   "source": [
    "### **vertices_info()**"
   ]
  },
  {
   "attachments": {},
   "cell_type": "markdown",
   "metadata": {},
   "source": [
    "##### By calling `.vertices_info()` the user can either define a list of vertices to recieve info about. Here we will use the [get_vertices_type()](#get_vertices_type) method to extract a list of SITE3 Vertex_Types and use the list to get vertices information."
   ]
  },
  {
   "cell_type": "code",
   "execution_count": 53,
   "metadata": {},
   "outputs": [
    {
     "name": "stdout",
     "output_type": "stream",
     "text": [
      "{(0.0, 9.0): (<Vertex_Type.SITE3: 4>, 1),\n",
      " (1.0, 2.0): (<Vertex_Type.SITE3: 4>, 1),\n",
      " (2.0, 1.0): (<Vertex_Type.SITE3: 4>, 2),\n",
      " (2.0, 5.0): (<Vertex_Type.SITE3: 4>, 1),\n",
      " (4.0, 6.0): (<Vertex_Type.SITE3: 4>, 1),\n",
      " (5.0, 6.0): (<Vertex_Type.SITE3: 4>, 1),\n",
      " (7.0, 3.0): (<Vertex_Type.SITE3: 4>, 1)}\n"
     ]
    }
   ],
   "source": [
    "defined_verts_list = cfg.graph.vertices_info(vert_list=cfg.graph.get_vertices_type(v_type=Vertex_Type.SITE3))\n",
    "pp.pprint(defined_verts_list)"
   ]
  },
  {
   "attachments": {},
   "cell_type": "markdown",
   "metadata": {},
   "source": [
    "##### We can also provide no vertices list and recieve all vertices in the graph"
   ]
  },
  {
   "cell_type": "code",
   "execution_count": 52,
   "metadata": {},
   "outputs": [
    {
     "name": "stdout",
     "output_type": "stream",
     "text": [
      "{(0.0, 6.0): (<Vertex_Type.BASIC: 0>, 1),\n",
      " (0.0, 7.0): (<Vertex_Type.ORIGIN: 1>, 1),\n",
      " (0.0, 8.0): (<Vertex_Type.BASIC: 0>, 1),\n",
      " (0.0, 9.0): (<Vertex_Type.SITE3: 4>, 1),\n",
      " (1.0, 0.0): (<Vertex_Type.BASIC: 0>, 1),\n",
      " (1.0, 2.0): (<Vertex_Type.SITE3: 4>, 1),\n",
      " (1.0, 3.0): (<Vertex_Type.SITE1: 2>, 1),\n",
      " (1.0, 5.0): (<Vertex_Type.BASIC: 0>, 1),\n",
      " (1.0, 7.0): (<Vertex_Type.BASIC: 0>, 1),\n",
      " (2.0, 0.0): (<Vertex_Type.BASIC: 0>, 1),\n",
      " (2.0, 1.0): (<Vertex_Type.SITE3: 4>, 3),\n",
      " (2.0, 3.0): (<Vertex_Type.BASIC: 0>, 1),\n",
      " (2.0, 5.0): (<Vertex_Type.SITE3: 4>, 1),\n",
      " (2.0, 8.0): (<Vertex_Type.BASIC: 0>, 1),\n",
      " (3.0, 0.0): (<Vertex_Type.SITE2: 3>, 1),\n",
      " (3.0, 2.0): (<Vertex_Type.SITE2: 3>, 1),\n",
      " (3.0, 4.0): (<Vertex_Type.SITE1: 2>, 1),\n",
      " (3.0, 6.0): (<Vertex_Type.BASIC: 0>, 1),\n",
      " (3.0, 7.0): (<Vertex_Type.BASIC: 0>, 1),\n",
      " (4.0, 1.0): (<Vertex_Type.BASIC: 0>, 1),\n",
      " (4.0, 6.0): (<Vertex_Type.SITE3: 4>, 1),\n",
      " (5.0, 0.0): (<Vertex_Type.BASIC: 0>, 1),\n",
      " (5.0, 2.0): (<Vertex_Type.BASIC: 0>, 1),\n",
      " (5.0, 6.0): (<Vertex_Type.SITE3: 4>, 1),\n",
      " (5.0, 7.0): (<Vertex_Type.BASIC: 0>, 1),\n",
      " (6.0, 0.0): (<Vertex_Type.BASIC: 0>, 1),\n",
      " (6.0, 2.0): (<Vertex_Type.BASIC: 0>, 1),\n",
      " (7.0, 0.0): (<Vertex_Type.SITE1: 2>, 1),\n",
      " (7.0, 1.0): (<Vertex_Type.BASIC: 0>, 1),\n",
      " (7.0, 3.0): (<Vertex_Type.SITE3: 4>, 1),\n",
      " (7.0, 4.0): (<Vertex_Type.BASIC: 0>, 1)}\n"
     ]
    }
   ],
   "source": [
    "all_verts_list = cfg.graph.vertices_info()\n",
    "pp.pprint(all_verts_list)"
   ]
  },
  {
   "attachments": {},
   "cell_type": "markdown",
   "metadata": {},
   "source": [
    "[Back to the Top!](#lyra-graphtool-tutorial)"
   ]
  },
  {
   "attachments": {},
   "cell_type": "markdown",
   "metadata": {},
   "source": [
    "-----------------------"
   ]
  },
  {
   "attachments": {},
   "cell_type": "markdown",
   "metadata": {},
   "source": [
    "## **Vertex_Type Object**"
   ]
  },
  {
   "attachments": {},
   "cell_type": "markdown",
   "metadata": {},
   "source": [
    "##### Vertex_Type is used to store and define each location type on the graph. These variables will contain spatial location information, as well as reward amount and time to extract. SITEs 1,2 and 3 can contain varying reward amounts.\n",
    "\n",
    "##### `Vertex_Type.BASIC` - BASIC is a location in space, neither a SITE nor the ORIGIN (regular point on the graph)\n",
    "##### `Vertex_Type.ORIGIN` - starting point for workers\n",
    "##### `Vertex_Type.OTHER`\n",
    "##### `Vertex_Type.OTHER2`\n",
    "##### `Vertex_Type.SITE1` - point on graph with reward\n",
    "##### `Vertex_Type.SITE2` - point on graph with reward\n",
    "##### `Vertex_Type.SITE2` - point on graph with reward"
   ]
  },
  {
   "attachments": {},
   "cell_type": "markdown",
   "metadata": {},
   "source": [
    "[Back to the Top!](#lyra-graphtool-tutorial)"
   ]
  },
  {
   "attachments": {},
   "cell_type": "markdown",
   "metadata": {},
   "source": [
    "-----------------------"
   ]
  },
  {
   "attachments": {},
   "cell_type": "markdown",
   "metadata": {},
   "source": [
    "## **Vertex Object**"
   ]
  },
  {
   "attachments": {},
   "cell_type": "markdown",
   "metadata": {},
   "source": [
    "##### The `Vertex` object allows users to create vertices for that graph by defining characteristics such as coordinates (x,y), Vertex_Type, rewards available at given site, site expiration time, and time to aquire. Below we create a vertex object and assign attributes. "
   ]
  },
  {
   "cell_type": "code",
   "execution_count": 33,
   "metadata": {},
   "outputs": [
    {
     "data": {
      "text/plain": [
       "[(4, 5), <Vertex_Type.SITE1: 2>]"
      ]
     },
     "execution_count": 33,
     "metadata": {},
     "output_type": "execute_result"
    }
   ],
   "source": [
    "verts = lgtool.Vertex(x=4,y=5, v_type=Vertex_Type.SITE1, reward=200)\n",
    "verts.info()"
   ]
  },
  {
   "attachments": {},
   "cell_type": "markdown",
   "metadata": {},
   "source": [
    "### **Vertex.info()**"
   ]
  },
  {
   "attachments": {},
   "cell_type": "markdown",
   "metadata": {},
   "source": [
    "##### Using `.info()` we can view the `Vertex` object we just created, along with it's defining characteristics"
   ]
  },
  {
   "cell_type": "code",
   "execution_count": 36,
   "metadata": {},
   "outputs": [
    {
     "data": {
      "text/plain": [
       "[(4, 5), <Vertex_Type.SITE1: 2>]"
      ]
     },
     "execution_count": 36,
     "metadata": {},
     "output_type": "execute_result"
    }
   ],
   "source": [
    "verts.info()"
   ]
  },
  {
   "attachments": {},
   "cell_type": "markdown",
   "metadata": {},
   "source": [
    "### **accessible_types()**"
   ]
  },
  {
   "attachments": {},
   "cell_type": "markdown",
   "metadata": {},
   "source": [
    "##### We can also use `.accessible_types()` to determine which `Vertex_Types` are accessible"
   ]
  },
  {
   "cell_type": "code",
   "execution_count": 37,
   "metadata": {},
   "outputs": [
    {
     "data": {
      "text/plain": [
       "[<Vertex_Type.SITE1: 2>, <Vertex_Type.SITE2: 3>, <Vertex_Type.SITE3: 4>]"
      ]
     },
     "execution_count": 37,
     "metadata": {},
     "output_type": "execute_result"
    }
   ],
   "source": [
    "verts.accessible_types()"
   ]
  },
  {
   "attachments": {},
   "cell_type": "markdown",
   "metadata": {},
   "source": [
    "[Back to the Top!](#lyra-graphtool-tutorial)"
   ]
  },
  {
   "attachments": {},
   "cell_type": "markdown",
   "metadata": {},
   "source": [
    "-----------------------"
   ]
  },
  {
   "attachments": {},
   "cell_type": "markdown",
   "metadata": {},
   "source": [
    "## **Worker_Type Object**"
   ]
  },
  {
   "attachments": {},
   "cell_type": "markdown",
   "metadata": {},
   "source": [
    "##### `Worker_Type` holds the variable information the three types of workers: WORKER1, WORKER2, and WORKER3. Each worker is assigned an order, and this can be viewed by calling `.worker_types` on the configuration ocject created in the initial setup.\n",
    "\n",
    "##### In the [Configuration-Object](#configuration-object) section above you can see how to get the [cost rate](#cost_rate) assigned to each worker for the configuration."
   ]
  },
  {
   "cell_type": "code",
   "execution_count": 86,
   "metadata": {},
   "outputs": [
    {
     "data": {
      "text/plain": [
       "[<Worker_Type.WORKER1: 0>, <Worker_Type.WORKER2: 1>, <Worker_Type.WORKER3: 2>]"
      ]
     },
     "execution_count": 86,
     "metadata": {},
     "output_type": "execute_result"
    }
   ],
   "source": [
    "cfg.worker_types"
   ]
  },
  {
   "attachments": {},
   "cell_type": "markdown",
   "metadata": {},
   "source": [
    "[Back to the Top!](#lyra-graphtool-tutorial)"
   ]
  },
  {
   "attachments": {},
   "cell_type": "markdown",
   "metadata": {},
   "source": [
    "-----------------------"
   ]
  },
  {
   "attachments": {},
   "cell_type": "markdown",
   "metadata": {},
   "source": [
    "## **Worker Object**"
   ]
  },
  {
   "attachments": {},
   "cell_type": "markdown",
   "metadata": {},
   "source": [
    "##### The Worker object contains the information about worker type and associated cost rate."
   ]
  },
  {
   "cell_type": "code",
   "execution_count": 33,
   "metadata": {},
   "outputs": [
    {
     "ename": "TypeError",
     "evalue": "'int' object is not subscriptable",
     "output_type": "error",
     "traceback": [
      "\u001b[0;31m---------------------------------------------------------------------------\u001b[0m",
      "\u001b[0;31mTypeError\u001b[0m                                 Traceback (most recent call last)",
      "Cell \u001b[0;32mIn[33], line 2\u001b[0m\n\u001b[1;32m      1\u001b[0m \u001b[39m# need to come back and figure out how to use this one\u001b[39;00m\n\u001b[0;32m----> 2\u001b[0m wrker_obj \u001b[39m=\u001b[39m lgtool\u001b[39m.\u001b[39;49mWorker(w_type\u001b[39m=\u001b[39;49mWorker_Type\u001b[39m.\u001b[39;49mWORKER2, rates\u001b[39m=\u001b[39;49m\u001b[39m5\u001b[39;49m)\n",
      "File \u001b[0;32m~/python_projects/lyra-challenge/lyra_graphtool/worker.py:32\u001b[0m, in \u001b[0;36mWorker.__init__\u001b[0;34m(self, w_type, rates)\u001b[0m\n\u001b[1;32m     27\u001b[0m \u001b[39m\u001b[39m\u001b[39m'''\u001b[39;00m\n\u001b[1;32m     28\u001b[0m \u001b[39m## Object to set and extract worker type and cost\u001b[39;00m\n\u001b[1;32m     29\u001b[0m \u001b[39m'''\u001b[39;00m\n\u001b[1;32m     31\u001b[0m \u001b[39mself\u001b[39m\u001b[39m.\u001b[39mworker_type \u001b[39m=\u001b[39m w_type\n\u001b[0;32m---> 32\u001b[0m \u001b[39mself\u001b[39m\u001b[39m.\u001b[39mworker_cost_rate \u001b[39m=\u001b[39m rates[w_type] \u001b[39mor\u001b[39;00m WORKER_COST_RATE[w_type]\n",
      "\u001b[0;31mTypeError\u001b[0m: 'int' object is not subscriptable"
     ]
    }
   ],
   "source": [
    "# need to come back and figure out how to use this one\n",
    "wrker_obj = lgtool.Worker(w_type=Worker_Type.WORKER2, rates=5)"
   ]
  },
  {
   "attachments": {},
   "cell_type": "markdown",
   "metadata": {},
   "source": [
    "[Back to the Top!](#lyra-graphtool-tutorial)"
   ]
  },
  {
   "attachments": {},
   "cell_type": "markdown",
   "metadata": {},
   "source": [
    "-----------------------"
   ]
  }
 ],
 "metadata": {
  "kernelspec": {
   "display_name": "base",
   "language": "python",
   "name": "python3"
  },
  "language_info": {
   "codemirror_mode": {
    "name": "ipython",
    "version": 3
   },
   "file_extension": ".py",
   "mimetype": "text/x-python",
   "name": "python",
   "nbconvert_exporter": "python",
   "pygments_lexer": "ipython3",
   "version": "3.10.9"
  },
  "orig_nbformat": 4
 },
 "nbformat": 4,
 "nbformat_minor": 2
}
