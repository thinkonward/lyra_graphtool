{
 "cells": [
  {
   "attachments": {},
   "cell_type": "markdown",
   "metadata": {},
   "source": [
    "# Off the Beaten Path Tutorial\n",
    "\n",
    "### Welcome to the Off the Beaten Path Xeek Challenge!\n",
    "\n",
    "##### This is a fun and unique variation of the traditional [travelling salesman](https://en.wikipedia.org/wiki/Travelling_salesman_problem) problem. \n",
    "\n",
    "##### In the traditional travelling salesman problem, the goal is to optimize the route that the \"salesman\" has to walk. This challenge introduces additional constraints and additional degrees of freedom (variables) to the problem. Not only will you be considering the distance to travel, but additional factors like simulation duration, budget, amount of rewards extracted from a particular site, and the cost of a worker. **The solution to the challenge is not only the plan, but also an algorithm that will be tested on other problem setups (different graphs to explore, different values of constraints), therefore you have to keep in mind, that you are developing a universal tool for finding a solution.**\n",
    "\n",
    "#### Please use the links below if you would like to jump to a specific Object in this notebook, as well as a starter notebook with an example solution!\n",
    "\n",
    "#### Main Index:\n",
    "\n",
    "[Initial Setup](#initial-setup)\n",
    "\n",
    "[Edge Object](#edge-Object)\n",
    "\n",
    "[Graph Object](#graph-Object)\n",
    "\n",
    "[Parameters Object](#parameters-Object)\n",
    "\n",
    "[Utils Object](#utils-Object)\n",
    "\n",
    "[Vertex Object](#vertex-Object)\n",
    "\n",
    "[Worker Object](#worker-Object)\n",
    "\n",
    "#### Notebook Index:\n",
    "\n",
    "[Starter Notebook w/ example solution](Lyra-starter-v0.ipynb) - This notebook explores the `lyra_graphtool` through an example solution to the challenge"
   ]
  },
  {
   "attachments": {},
   "cell_type": "markdown",
   "metadata": {},
   "source": [
    "## Initial Setup"
   ]
  },
  {
   "attachments": {},
   "cell_type": "markdown",
   "metadata": {},
   "source": [
    "##### Upon starting this challenge, competitors will need to download the required matrials from the [Off the Beaten Path](https://xeek.ai/challenges/off-the-beaten-path) challenge page. \n",
    "##### The Xeek team will provide:\n",
    "* ##### An arguments file that will contain information to set up the problem. All participants will recieve the same arguments file. This file will contain information like **total budget**, **site rewards**, and **duration** of the simulation.\n",
    "* ##### A graph JSON file. All participants will recieve the same `graph.json` file. This will be loaded into the `lyra_graphtool.Graph` object to set up the graph vertices and site information.\n",
    "* ##### A starter notebook, similar to the [example solution](Lyra-starter-v0.ipynb), but without the example solution. This notebook will be your playground to write an algorithm to solve the Off the Beaten Path Challenge!\n",
    "##### Note: Ensure that the `lyra_graphtool` folder is saved in your project folder to avoid import issues\n"
   ]
  },
  {
   "attachments": {},
   "cell_type": "markdown",
   "metadata": {},
   "source": [
    "## Now let's get started! \n",
    "##### Run the next 2 cells in order to setup graphs, budgets, worker costs, rewards, and duration. Double check to make sure the file paths for the `lgtool.ProcessArgs.load()` are correct."
   ]
  },
  {
   "cell_type": "code",
   "execution_count": 1,
   "metadata": {},
   "outputs": [],
   "source": [
    "import random\n",
    "from copy import deepcopy\n",
    "from random import randint\n",
    "\n",
    "import lyra_graphtool as lgtool\n",
    "from lyra_graphtool import Configuration, Config_Single_Time, Edge, Graph, Graph_Type, Parameters, Vertex, Worker_Type, Vertex_Type"
   ]
  },
  {
   "cell_type": "code",
   "execution_count": 2,
   "metadata": {},
   "outputs": [],
   "source": [
    "pargs = lgtool.ProcessArgs.load(arguments_file='../lyra-challenge/ready_setups/args_random', graph_file='../lyra-challenge/ready_setups/graph_sample.json')"
   ]
  },
  {
   "attachments": {},
   "cell_type": "markdown",
   "metadata": {},
   "source": [
    "## Parameters class"
   ]
  },
  {
   "attachments": {},
   "cell_type": "markdown",
   "metadata": {},
   "source": [
    "##### The loaded arguments and graph can be wrapped with `lgtool.Parameters` class which can be further passed to the `lgtool.Configuration()` object."
   ]
  },
  {
   "cell_type": "code",
   "execution_count": 3,
   "metadata": {},
   "outputs": [],
   "source": [
    "params = lgtool.Parameters(pargs.graph, \n",
    "                           budget = pargs.args_trial.budget, \n",
    "                           duration_time = pargs.args_trial.duration,\n",
    "                           cost_rate = pargs.worker_cost_rate\n",
    "                           )\n",
    "\n",
    "cfg = lgtool.Configuration(params)"
   ]
  },
  {
   "attachments": {},
   "cell_type": "markdown",
   "metadata": {},
   "source": [
    "## Configuration Object"
   ]
  },
  {
   "attachments": {},
   "cell_type": "markdown",
   "metadata": {},
   "source": [
    "##### The `lgtool.Configuration()` object contains not only the graph to be optimized, but also problem constraints and setup like budget, duration, and worker cost rates. The configuration object contains `lgtool.Graph()` object with it's own useful methods. We will explore its functionality more in the [Graph Object](#graph-object) section."
   ]
  },
  {
   "cell_type": "code",
   "execution_count": 17,
   "metadata": {},
   "outputs": [
    {
     "data": {
      "text/plain": [
       "<function lyra_graphtool.configuration.Configuration.sched_info(sched: Dict) -> List>"
      ]
     },
     "execution_count": 17,
     "metadata": {},
     "output_type": "execute_result"
    }
   ],
   "source": [
    "lgtool.Configuration.sched_info"
   ]
  },
  {
   "attachments": {},
   "cell_type": "markdown",
   "metadata": {},
   "source": [
    "## Edge Object"
   ]
  },
  {
   "attachments": {},
   "cell_type": "markdown",
   "metadata": {},
   "source": [
    "## Graph Object"
   ]
  },
  {
   "attachments": {},
   "cell_type": "markdown",
   "metadata": {},
   "source": [
    "## Utils Object"
   ]
  },
  {
   "attachments": {},
   "cell_type": "markdown",
   "metadata": {},
   "source": [
    "## Vertex Object"
   ]
  },
  {
   "attachments": {},
   "cell_type": "markdown",
   "metadata": {},
   "source": [
    "## Worker Object"
   ]
  },
  {
   "attachments": {},
   "cell_type": "markdown",
   "metadata": {},
   "source": [
    "[Back to the Top!](#off-the-beaten-path-tutorial)"
   ]
  }
 ],
 "metadata": {
  "kernelspec": {
   "display_name": "base",
   "language": "python",
   "name": "python3"
  },
  "language_info": {
   "codemirror_mode": {
    "name": "ipython",
    "version": 3
   },
   "file_extension": ".py",
   "mimetype": "text/x-python",
   "name": "python",
   "nbconvert_exporter": "python",
   "pygments_lexer": "ipython3",
   "version": "3.10.9"
  },
  "orig_nbformat": 4
 },
 "nbformat": 4,
 "nbformat_minor": 2
}
